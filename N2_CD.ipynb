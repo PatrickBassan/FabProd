{
  "nbformat": 4,
  "nbformat_minor": 0,
  "metadata": {
    "colab": {
      "provenance": [],
      "authorship_tag": "ABX9TyOuye1RngkeDg8W1n337xnx",
      "include_colab_link": true
    },
    "kernelspec": {
      "name": "python3",
      "display_name": "Python 3"
    },
    "language_info": {
      "name": "python"
    }
  },
  "cells": [
    {
      "cell_type": "markdown",
      "metadata": {
        "id": "view-in-github",
        "colab_type": "text"
      },
      "source": [
        "<a href=\"https://colab.research.google.com/github/PatrickBassan/FabProd/blob/main/N2_CD.ipynb\" target=\"_parent\"><img src=\"https://colab.research.google.com/assets/colab-badge.svg\" alt=\"Open In Colab\"/></a>"
      ]
    },
    {
      "cell_type": "markdown",
      "source": [
        "# N2 - Ciência de Dados\n",
        "**Aluno:** Patrick de Freitas Bassan\n",
        "\n",
        "## O problema\n",
        "Considere a empresa FabProdresponsável por fabricar e distribuir uma família de produtos de limpeza de veículos para região Sul do Brasil. No entanto, CEO dessa empresa não tem conhecimento do quanto a FabProdpode expandir a distribuição nessa regiãoe nas demais regiões do Brasil. O CEO têm apenas informações sobre as vendas oriundas do ERP, e está interessado em conhecer melhor as possibilidades de expansão dos negócios para FabProd. Ele sabe que existe uma área multidisciplinar (ciência de dados) que pode ajudá-lo, mas ele não sabe como.\n",
        "\n",
        "## Os dados\n",
        "Para gerar os dados, foram selecionadas todas cidades da região sul do Brasil junto de seu respectivo Estado e população.\n"
      ],
      "metadata": {
        "id": "Fe3YGZxaGRai"
      }
    },
    {
      "cell_type": "code",
      "execution_count": 78,
      "metadata": {
        "id": "fWhNsEWW3r86",
        "colab": {
          "base_uri": "https://localhost:8080/",
          "height": 206
        },
        "outputId": "f5ce7456-b428-4d10-b59b-34d3249d0742"
      },
      "outputs": [
        {
          "output_type": "execute_result",
          "data": {
            "text/plain": [
              "   pos         cidade  populacao estado  vendas\n",
              "0    1       Curitiba    1917185     PR     NaN\n",
              "1    2   Porto Alegre    1479101     RS     NaN\n",
              "2    3      Joinville     583144     SC     NaN\n",
              "3    4       Londrina     563943     PR     NaN\n",
              "4    5  Caxias do Sul     504069     RS     NaN"
            ],
            "text/html": [
              "\n",
              "  <div id=\"df-1e3a687c-68c8-4d39-a499-335227184637\">\n",
              "    <div class=\"colab-df-container\">\n",
              "      <div>\n",
              "<style scoped>\n",
              "    .dataframe tbody tr th:only-of-type {\n",
              "        vertical-align: middle;\n",
              "    }\n",
              "\n",
              "    .dataframe tbody tr th {\n",
              "        vertical-align: top;\n",
              "    }\n",
              "\n",
              "    .dataframe thead th {\n",
              "        text-align: right;\n",
              "    }\n",
              "</style>\n",
              "<table border=\"1\" class=\"dataframe\">\n",
              "  <thead>\n",
              "    <tr style=\"text-align: right;\">\n",
              "      <th></th>\n",
              "      <th>pos</th>\n",
              "      <th>cidade</th>\n",
              "      <th>populacao</th>\n",
              "      <th>estado</th>\n",
              "      <th>vendas</th>\n",
              "    </tr>\n",
              "  </thead>\n",
              "  <tbody>\n",
              "    <tr>\n",
              "      <th>0</th>\n",
              "      <td>1</td>\n",
              "      <td>Curitiba</td>\n",
              "      <td>1917185</td>\n",
              "      <td>PR</td>\n",
              "      <td>NaN</td>\n",
              "    </tr>\n",
              "    <tr>\n",
              "      <th>1</th>\n",
              "      <td>2</td>\n",
              "      <td>Porto Alegre</td>\n",
              "      <td>1479101</td>\n",
              "      <td>RS</td>\n",
              "      <td>NaN</td>\n",
              "    </tr>\n",
              "    <tr>\n",
              "      <th>2</th>\n",
              "      <td>3</td>\n",
              "      <td>Joinville</td>\n",
              "      <td>583144</td>\n",
              "      <td>SC</td>\n",
              "      <td>NaN</td>\n",
              "    </tr>\n",
              "    <tr>\n",
              "      <th>3</th>\n",
              "      <td>4</td>\n",
              "      <td>Londrina</td>\n",
              "      <td>563943</td>\n",
              "      <td>PR</td>\n",
              "      <td>NaN</td>\n",
              "    </tr>\n",
              "    <tr>\n",
              "      <th>4</th>\n",
              "      <td>5</td>\n",
              "      <td>Caxias do Sul</td>\n",
              "      <td>504069</td>\n",
              "      <td>RS</td>\n",
              "      <td>NaN</td>\n",
              "    </tr>\n",
              "  </tbody>\n",
              "</table>\n",
              "</div>\n",
              "      <button class=\"colab-df-convert\" onclick=\"convertToInteractive('df-1e3a687c-68c8-4d39-a499-335227184637')\"\n",
              "              title=\"Convert this dataframe to an interactive table.\"\n",
              "              style=\"display:none;\">\n",
              "        \n",
              "  <svg xmlns=\"http://www.w3.org/2000/svg\" height=\"24px\"viewBox=\"0 0 24 24\"\n",
              "       width=\"24px\">\n",
              "    <path d=\"M0 0h24v24H0V0z\" fill=\"none\"/>\n",
              "    <path d=\"M18.56 5.44l.94 2.06.94-2.06 2.06-.94-2.06-.94-.94-2.06-.94 2.06-2.06.94zm-11 1L8.5 8.5l.94-2.06 2.06-.94-2.06-.94L8.5 2.5l-.94 2.06-2.06.94zm10 10l.94 2.06.94-2.06 2.06-.94-2.06-.94-.94-2.06-.94 2.06-2.06.94z\"/><path d=\"M17.41 7.96l-1.37-1.37c-.4-.4-.92-.59-1.43-.59-.52 0-1.04.2-1.43.59L10.3 9.45l-7.72 7.72c-.78.78-.78 2.05 0 2.83L4 21.41c.39.39.9.59 1.41.59.51 0 1.02-.2 1.41-.59l7.78-7.78 2.81-2.81c.8-.78.8-2.07 0-2.86zM5.41 20L4 18.59l7.72-7.72 1.47 1.35L5.41 20z\"/>\n",
              "  </svg>\n",
              "      </button>\n",
              "      \n",
              "  <style>\n",
              "    .colab-df-container {\n",
              "      display:flex;\n",
              "      flex-wrap:wrap;\n",
              "      gap: 12px;\n",
              "    }\n",
              "\n",
              "    .colab-df-convert {\n",
              "      background-color: #E8F0FE;\n",
              "      border: none;\n",
              "      border-radius: 50%;\n",
              "      cursor: pointer;\n",
              "      display: none;\n",
              "      fill: #1967D2;\n",
              "      height: 32px;\n",
              "      padding: 0 0 0 0;\n",
              "      width: 32px;\n",
              "    }\n",
              "\n",
              "    .colab-df-convert:hover {\n",
              "      background-color: #E2EBFA;\n",
              "      box-shadow: 0px 1px 2px rgba(60, 64, 67, 0.3), 0px 1px 3px 1px rgba(60, 64, 67, 0.15);\n",
              "      fill: #174EA6;\n",
              "    }\n",
              "\n",
              "    [theme=dark] .colab-df-convert {\n",
              "      background-color: #3B4455;\n",
              "      fill: #D2E3FC;\n",
              "    }\n",
              "\n",
              "    [theme=dark] .colab-df-convert:hover {\n",
              "      background-color: #434B5C;\n",
              "      box-shadow: 0px 1px 3px 1px rgba(0, 0, 0, 0.15);\n",
              "      filter: drop-shadow(0px 1px 2px rgba(0, 0, 0, 0.3));\n",
              "      fill: #FFFFFF;\n",
              "    }\n",
              "  </style>\n",
              "\n",
              "      <script>\n",
              "        const buttonEl =\n",
              "          document.querySelector('#df-1e3a687c-68c8-4d39-a499-335227184637 button.colab-df-convert');\n",
              "        buttonEl.style.display =\n",
              "          google.colab.kernel.accessAllowed ? 'block' : 'none';\n",
              "\n",
              "        async function convertToInteractive(key) {\n",
              "          const element = document.querySelector('#df-1e3a687c-68c8-4d39-a499-335227184637');\n",
              "          const dataTable =\n",
              "            await google.colab.kernel.invokeFunction('convertToInteractive',\n",
              "                                                     [key], {});\n",
              "          if (!dataTable) return;\n",
              "\n",
              "          const docLinkHtml = 'Like what you see? Visit the ' +\n",
              "            '<a target=\"_blank\" href=https://colab.research.google.com/notebooks/data_table.ipynb>data table notebook</a>'\n",
              "            + ' to learn more about interactive tables.';\n",
              "          element.innerHTML = '';\n",
              "          dataTable['output_type'] = 'display_data';\n",
              "          await google.colab.output.renderOutput(dataTable, element);\n",
              "          const docLink = document.createElement('div');\n",
              "          docLink.innerHTML = docLinkHtml;\n",
              "          element.appendChild(docLink);\n",
              "        }\n",
              "      </script>\n",
              "    </div>\n",
              "  </div>\n",
              "  "
            ]
          },
          "metadata": {},
          "execution_count": 78
        }
      ],
      "source": [
        "import pandas as pd\n",
        "import numpy as np\n",
        "\n",
        "# importando o dataset\n",
        "df = pd.read_csv(\"vendas.csv\")\n",
        "\n",
        "# visualizando os dados\n",
        "df.head()"
      ]
    },
    {
      "cell_type": "markdown",
      "source": [
        "Como não existiam valores de venda, foi utilizado uma função de randomização para obter os dados."
      ],
      "metadata": {
        "id": "v9ukAHIGHd2x"
      }
    },
    {
      "cell_type": "code",
      "source": [
        "# gerando dados de vendas para as cidades sem valores\n",
        "df['vendas'] = abs(np.round(np.random.normal(loc=10000, scale=5000, size=len(df[\"cidade\"])), decimals=0))\n",
        "\n",
        "print(df[\"vendas\"])"
      ],
      "metadata": {
        "colab": {
          "base_uri": "https://localhost:8080/"
        },
        "id": "ppELlg2qDgpf",
        "outputId": "5094c135-3a60-4e1d-ac42-9d8cf810ff71"
      },
      "execution_count": 79,
      "outputs": [
        {
          "output_type": "stream",
          "name": "stdout",
          "text": [
            "0     17111.0\n",
            "1     13468.0\n",
            "2     13307.0\n",
            "3      1243.0\n",
            "4      8465.0\n",
            "       ...   \n",
            "73     7691.0\n",
            "74      503.0\n",
            "75     3902.0\n",
            "76    14769.0\n",
            "77    13148.0\n",
            "Name: vendas, Length: 78, dtype: float64\n"
          ]
        }
      ]
    },
    {
      "cell_type": "markdown",
      "source": [
        "Usando esses dados, podemos começar a fazer algumas análises que ajudarão a entender melhor o potencial de expansão da FabProd.\n",
        "\n",
        "Primeiro, podemos criar um gráfico de barras para visualizar as diferenças de vendas entre as cidades:\n"
      ],
      "metadata": {
        "id": "8vN4lRxl3s07"
      }
    },
    {
      "cell_type": "code",
      "source": [
        "import matplotlib.pyplot as plt\n",
        "\n",
        "# Criar o gráfico de barras\n",
        "plt.bar(df['cidade'], df['vendas'])\n",
        "\n",
        "# Adicionar título e rótulos aos eixos\n",
        "plt.title('Vendas de produtos de limpeza de veículos no Sul do Brasil')\n",
        "plt.xlabel('Cidades')\n",
        "plt.ylabel('Vendas')\n",
        "\n",
        "# Exibir o gráfico\n",
        "plt.show()"
      ],
      "metadata": {
        "colab": {
          "base_uri": "https://localhost:8080/",
          "height": 473
        },
        "id": "8kkSlFBVFn7s",
        "outputId": "d2ef1ad3-ae9c-401b-fde6-5da60826aca7"
      },
      "execution_count": 80,
      "outputs": [
        {
          "output_type": "display_data",
          "data": {
            "text/plain": [
              "<Figure size 640x480 with 1 Axes>"
            ],
            "image/png": "[encoded data removed]"
          },
          "metadata": {}
        }
      ]
    },
    {
      "cell_type": "markdown",
      "source": [
        "Para facilitar a leitura, podemos também gerar um gráfico considerando apenas os estados"
      ],
      "metadata": {
        "id": "svFI5zBPKlPX"
      }
    },
    {
      "cell_type": "code",
      "source": [
        "# Total de vendas em SC\n",
        "sc_total = df[df['estado'] == 'SC']['vendas'].sum()\n",
        "\n",
        "# Total de vendas em PR\n",
        "pr_total = df[df['estado'] == 'PR']['vendas'].sum()\n",
        "\n",
        "# Total de vendas em RS\n",
        "rs_total = df[df['estado'] == 'RS']['vendas'].sum()\n",
        "\n",
        "estados = [\"SC\", \"PR\", \"RS\"]\n",
        "vendas = [sc_total, pr_total, rs_total]\n",
        "\n",
        "# Criar o gráfico de barras\n",
        "plt.bar(estados, vendas)\n",
        "\n",
        "# Adicionar título e rótulos aos eixos\n",
        "plt.title('Vendas de produtos de limpeza de veículos no Sul do Brasil')\n",
        "plt.xlabel('Estados')\n",
        "plt.ylabel('Vendas')\n",
        "\n",
        "# Exibir o gráfico\n",
        "plt.show()"
      ],
      "metadata": {
        "colab": {
          "base_uri": "https://localhost:8080/",
          "height": 472
        },
        "id": "OglgDr08Ks6E",
        "outputId": "fc0bcafb-b7de-4ba3-ed9a-2e0a99f05a37"
      },
      "execution_count": 81,
      "outputs": [
        {
          "output_type": "display_data",
          "data": {
            "text/plain": [
              "<Figure size 640x480 with 1 Axes>"
            ],
            "image/png": "[encoded data removed]"
          },
          "metadata": {}
        }
      ]
    },
    {
      "cell_type": "markdown",
      "source": [
        "Com isso conseguimos ver que a maioria das vendas foram feitas para o estado do Paraná, com o Rio Grande do Sul ficando em segundo lugar e Santa Catarina ficando mais pra trás.\n",
        "\n",
        "Podemos gerar também um gráfico com a quantidade de população em cada estado:"
      ],
      "metadata": {
        "id": "OnoGjIdGMT39"
      }
    },
    {
      "cell_type": "code",
      "source": [
        "import seaborn as sns\n",
        "\n",
        "# Total de pessoas em SC\n",
        "sc_pop = df[df['estado'] == 'SC']['populacao'].sum()\n",
        "\n",
        "# Total de pessoas em PR\n",
        "pr_pop = df[df['estado'] == 'PR']['populacao'].sum()\n",
        "\n",
        "# Total de pessoas em RS\n",
        "rs_pop = df[df['estado'] == 'RS']['populacao'].sum()\n",
        "\n",
        "pop = [sc_pop, pr_pop, rs_pop]\n",
        "\n",
        "# # Criar o gráfico de barras\n",
        "plt.bar(estados, pop)\n",
        "\n",
        "# # Adicionar título e rótulos aos eixos\n",
        "plt.title('População no Sul do Brasil')\n",
        "plt.xlabel('Estados')\n",
        "plt.ylabel('População')\n",
        "\n",
        "# # Exibir o gráfico\n",
        "plt.show()"
      ],
      "metadata": {
        "colab": {
          "base_uri": "https://localhost:8080/",
          "height": 472
        },
        "id": "ygo5SfnFQvhB",
        "outputId": "6560b809-d3dd-4ebd-d662-f62b5474e573"
      },
      "execution_count": 82,
      "outputs": [
        {
          "output_type": "display_data",
          "data": {
            "text/plain": [
              "<Figure size 640x480 with 1 Axes>"
            ],
            "image/png": "[encoded data removed]"
          },
          "metadata": {}
        }
      ]
    },
    {
      "cell_type": "markdown",
      "source": [
        "Com isso, vemos que o Paraná também tem um número maior de população. Com isso podemos considerar que talvez em estados com maior número de população teremos mais vendas.\n",
        "\n",
        "Para tentar visualizar as relações entre as variáveis, podemos gerar um gráfico de correlação."
      ],
      "metadata": {
        "id": "s5iPiniFS1YM"
      }
    },
    {
      "cell_type": "code",
      "source": [
        "# Removendo a coluna de posição do dataset\n",
        "\n",
        "df.drop(['pos'], axis=1, inplace=True)\n",
        "\n",
        "plt.figure(figsize = (10,6))\n",
        "sns.heatmap(df.corr(),annot=True,square=True,\n",
        "            cmap='RdBu',\n",
        "            vmax=1,\n",
        "            vmin=-1)\n",
        "plt.title('Correlação entre as variáveis',size=18);\n",
        "plt.xticks(size=13)\n",
        "plt.yticks(size=13)\n",
        "plt.show()"
      ],
      "metadata": {
        "colab": {
          "base_uri": "https://localhost:8080/",
          "height": 611
        },
        "id": "eL96W2dgTHOC",
        "outputId": "48abdbc6-0771-4ad6-a82f-aeb12e90efdd"
      },
      "execution_count": 83,
      "outputs": [
        {
          "output_type": "stream",
          "name": "stderr",
          "text": [
            "<ipython-input-83-710aca4ce633>:6: FutureWarning: The default value of numeric_only in DataFrame.corr is deprecated. In a future version, it will default to False. Select only valid columns or specify the value of numeric_only to silence this warning.\n",
            "  sns.heatmap(df.corr(),annot=True,square=True,\n"
          ]
        },
        {
          "output_type": "display_data",
          "data": {
            "text/plain": [
              "<Figure size 1000x600 with 2 Axes>"
            ],
            "image/png": "[encoded data removed]"
          },
          "metadata": {}
        }
      ]
    },
    {
      "cell_type": "markdown",
      "source": [
        "Podemos então, começar a trabalhar no nosso modelo de predição. Sendo que primeiramente faremos um tratamento dos dados para converter os estados em valores númericos. Para esse modelo iremos desconsiderar os nomes das cidades e iremos olhar apenas pra sua população."
      ],
      "metadata": {
        "id": "G1eTZJItUMhk"
      }
    },
    {
      "cell_type": "code",
      "source": [
        "from sklearn.preprocessing import LabelEncoder\n",
        "\n",
        "le = LabelEncoder()\n",
        "df['estado'] = le.fit_transform(df['estado'])\n",
        "\n",
        "df['estado']"
      ],
      "metadata": {
        "colab": {
          "base_uri": "https://localhost:8080/"
        },
        "id": "eLGI1gITUq5H",
        "outputId": "f2b916d2-c39b-4758-fb08-fc43fab81892"
      },
      "execution_count": 92,
      "outputs": [
        {
          "output_type": "execute_result",
          "data": {
            "text/plain": [
              "0     0\n",
              "1     1\n",
              "2     2\n",
              "3     0\n",
              "4     1\n",
              "     ..\n",
              "73    2\n",
              "74    1\n",
              "75    1\n",
              "76    0\n",
              "77    1\n",
              "Name: estado, Length: 78, dtype: int64"
            ]
          },
          "metadata": {},
          "execution_count": 92
        }
      ]
    },
    {
      "cell_type": "markdown",
      "source": [
        "Agora vamos separar as variáveis independentes (população e estado) da variável dependente (valor) e converter as variáveis categóricas (população e estado) em variáveis numéricas usando a técnica de codificação one-hot:"
      ],
      "metadata": {
        "id": "a73zuWGTV7gh"
      }
    },
    {
      "cell_type": "code",
      "source": [
        "from sklearn.model_selection import train_test_split\n",
        "from sklearn.preprocessing import OneHotEncoder\n",
        "from sklearn.linear_model import LinearRegression\n",
        "\n",
        "# Separar as variáveis independentes e dependentes\n",
        "X = df.iloc[:, 1:-1].values\n",
        "y = df.iloc[:, 3].values\n",
        "\n",
        "# Codificar as variáveis categóricas usando one-hot\n",
        "encoder = OneHotEncoder(sparse=False)\n",
        "X_encoded = encoder.fit_transform(X)"
      ],
      "metadata": {
        "colab": {
          "base_uri": "https://localhost:8080/"
        },
        "id": "bOsR2yVFWQ4d",
        "outputId": "b879d6b7-2749-4ab0-c8b5-61506e8785ac"
      },
      "execution_count": 95,
      "outputs": [
        {
          "output_type": "stream",
          "name": "stderr",
          "text": [
            "/usr/local/lib/python3.10/dist-packages/sklearn/preprocessing/_encoders.py:868: FutureWarning: `sparse` was renamed to `sparse_output` in version 1.2 and will be removed in 1.4. `sparse_output` is ignored unless you leave `sparse` to its default value.\n",
            "  warnings.warn(\n"
          ]
        }
      ]
    },
    {
      "cell_type": "markdown",
      "source": [
        "O próximo passo é dividir o conjunto de dados em um conjunto de treinamento e um conjunto de teste:"
      ],
      "metadata": {
        "id": "BxJSU18pXkVc"
      }
    },
    {
      "cell_type": "code",
      "source": [
        "# Dividir o conjunto de dados em treinamento e teste\n",
        "X_train, X_test, y_train, y_test = train_test_split(X_encoded, y, test_size=0.2, random_state=42)"
      ],
      "metadata": {
        "id": "PDNKlfsJXmAF"
      },
      "execution_count": 96,
      "outputs": []
    },
    {
      "cell_type": "markdown",
      "source": [
        "Agora criamos o modelo de regressão e ajustamos aos dados de treinamento:"
      ],
      "metadata": {
        "id": "MTWrrxCrXq8G"
      }
    },
    {
      "cell_type": "code",
      "source": [
        "# Criar o modelo de regressão\n",
        "regressor = LinearRegression()\n",
        "\n",
        "# Treinar o modelo de regressão\n",
        "regressor.fit(X_train, y_train)"
      ],
      "metadata": {
        "colab": {
          "base_uri": "https://localhost:8080/",
          "height": 52
        },
        "id": "v5NpxS2FXrJn",
        "outputId": "753d1e97-0d45-4ff7-ef10-21f09775c487"
      },
      "execution_count": 97,
      "outputs": [
        {
          "output_type": "execute_result",
          "data": {
            "text/plain": [
              "LinearRegression()"
            ],
            "text/html": [
              "<style>#sk-container-id-1 {color: black;background-color: white;}#sk-container-id-1 pre{padding: 0;}#sk-container-id-1 div.sk-toggleable {background-color: white;}#sk-container-id-1 label.sk-toggleable__label {cursor: pointer;display: block;width: 100%;margin-bottom: 0;padding: 0.3em;box-sizing: border-box;text-align: center;}#sk-container-id-1 label.sk-toggleable__label-arrow:before {content: \"▸\";float: left;margin-right: 0.25em;color: #696969;}#sk-container-id-1 label.sk-toggleable__label-arrow:hover:before {color: black;}#sk-container-id-1 div.sk-estimator:hover label.sk-toggleable__label-arrow:before {color: black;}#sk-container-id-1 div.sk-toggleable__content {max-height: 0;max-width: 0;overflow: hidden;text-align: left;background-color: #f0f8ff;}#sk-container-id-1 div.sk-toggleable__content pre {margin: 0.2em;color: black;border-radius: 0.25em;background-color: #f0f8ff;}#sk-container-id-1 input.sk-toggleable__control:checked~div.sk-toggleable__content {max-height: 200px;max-width: 100%;overflow: auto;}#sk-container-id-1 input.sk-toggleable__control:checked~label.sk-toggleable__label-arrow:before {content: \"▾\";}#sk-container-id-1 div.sk-estimator input.sk-toggleable__control:checked~label.sk-toggleable__label {background-color: #d4ebff;}#sk-container-id-1 div.sk-label input.sk-toggleable__control:checked~label.sk-toggleable__label {background-color: #d4ebff;}#sk-container-id-1 input.sk-hidden--visually {border: 0;clip: rect(1px 1px 1px 1px);clip: rect(1px, 1px, 1px, 1px);height: 1px;margin: -1px;overflow: hidden;padding: 0;position: absolute;width: 1px;}#sk-container-id-1 div.sk-estimator {font-family: monospace;background-color: #f0f8ff;border: 1px dotted black;border-radius: 0.25em;box-sizing: border-box;margin-bottom: 0.5em;}#sk-container-id-1 div.sk-estimator:hover {background-color: #d4ebff;}#sk-container-id-1 div.sk-parallel-item::after {content: \"\";width: 100%;border-bottom: 1px solid gray;flex-grow: 1;}#sk-container-id-1 div.sk-label:hover label.sk-toggleable__label {background-color: #d4ebff;}#sk-container-id-1 div.sk-serial::before {content: \"\";position: absolute;border-left: 1px solid gray;box-sizing: border-box;top: 0;bottom: 0;left: 50%;z-index: 0;}#sk-container-id-1 div.sk-serial {display: flex;flex-direction: column;align-items: center;background-color: white;padding-right: 0.2em;padding-left: 0.2em;position: relative;}#sk-container-id-1 div.sk-item {position: relative;z-index: 1;}#sk-container-id-1 div.sk-parallel {display: flex;align-items: stretch;justify-content: center;background-color: white;position: relative;}#sk-container-id-1 div.sk-item::before, #sk-container-id-1 div.sk-parallel-item::before {content: \"\";position: absolute;border-left: 1px solid gray;box-sizing: border-box;top: 0;bottom: 0;left: 50%;z-index: -1;}#sk-container-id-1 div.sk-parallel-item {display: flex;flex-direction: column;z-index: 1;position: relative;background-color: white;}#sk-container-id-1 div.sk-parallel-item:first-child::after {align-self: flex-end;width: 50%;}#sk-container-id-1 div.sk-parallel-item:last-child::after {align-self: flex-start;width: 50%;}#sk-container-id-1 div.sk-parallel-item:only-child::after {width: 0;}#sk-container-id-1 div.sk-dashed-wrapped {border: 1px dashed gray;margin: 0 0.4em 0.5em 0.4em;box-sizing: border-box;padding-bottom: 0.4em;background-color: white;}#sk-container-id-1 div.sk-label label {font-family: monospace;font-weight: bold;display: inline-block;line-height: 1.2em;}#sk-container-id-1 div.sk-label-container {text-align: center;}#sk-container-id-1 div.sk-container {/* jupyter's `normalize.less` sets `[hidden] { display: none; }` but bootstrap.min.css set `[hidden] { display: none !important; }` so we also need the `!important` here to be able to override the default hidden behavior on the sphinx rendered scikit-learn.org. See: https://github.com/scikit-learn/scikit-learn/issues/21755 */display: inline-block !important;position: relative;}#sk-container-id-1 div.sk-text-repr-fallback {display: none;}</style><div id=\"sk-container-id-1\" class=\"sk-top-container\"><div class=\"sk-text-repr-fallback\"><pre>LinearRegression()</pre><b>In a Jupyter environment, please rerun this cell to show the HTML representation or trust the notebook. <br />On GitHub, the HTML representation is unable to render, please try loading this page with nbviewer.org.</b></div><div class=\"sk-container\" hidden><div class=\"sk-item\"><div class=\"sk-estimator sk-toggleable\"><input class=\"sk-toggleable__control sk-hidden--visually\" id=\"sk-estimator-id-1\" type=\"checkbox\" checked><label for=\"sk-estimator-id-1\" class=\"sk-toggleable__label sk-toggleable__label-arrow\">LinearRegression</label><div class=\"sk-toggleable__content\"><pre>LinearRegression()</pre></div></div></div></div></div>"
            ]
          },
          "metadata": {},
          "execution_count": 97
        }
      ]
    },
    {
      "cell_type": "markdown",
      "source": [
        "Por fim, usamos o modelo treinado para fazer previsões nos dados de teste e avaliar o desempenho do modelo usando uma métrica de erro, como o erro médio absoluto (MAE) ou o erro quadrático médio (MSE):"
      ],
      "metadata": {
        "id": "ATXkZWerX1oa"
      }
    },
    {
      "cell_type": "code",
      "source": [
        "# Fazer previsões nos dados de teste\n",
        "y_pred = regressor.predict(X_test)\n",
        "\n",
        "# Calcular o MAE\n",
        "mae = np.mean(np.abs(y_pred - y_test))\n",
        "\n",
        "# Calcular o MSE\n",
        "mse = np.mean(np.square(y_pred - y_test))\n",
        "\n",
        "print(\"MAE\")\n",
        "print(mae)\n",
        "print(\"MSE\")\n",
        "print(mse)"
      ],
      "metadata": {
        "colab": {
          "base_uri": "https://localhost:8080/"
        },
        "id": "Pme3xLS0X1yl",
        "outputId": "fca688d5-65a5-4570-dcc7-b1855a48302b"
      },
      "execution_count": 124,
      "outputs": [
        {
          "output_type": "stream",
          "name": "stdout",
          "text": [
            "MAE\n",
            "3975.8404365553665\n",
            "MSE\n",
            "22915755.190590158\n"
          ]
        }
      ]
    },
    {
      "cell_type": "markdown",
      "source": [
        "Então, faremos a predição de vendas para os outros estados do Brasil."
      ],
      "metadata": {
        "id": "rbWA3dDxaxl0"
      }
    },
    {
      "cell_type": "code",
      "source": [
        "# Codificar as variáveis independentes para as vendas em outro estado\n",
        "X_new = pd.DataFrame({'populacao': [46024937,20732660,16615526,14659023,9051113,8936431,8442962,6950976,6800605,4108508,4030961,3952262,3784239,3303953,3270174,3125254,2923369,2833742,2211868,1616379,1584306,829780,774268,634805],\n",
        "                      'estado': ['SP','MG','RJ','BA','PE','CE','PA','GO','MA','ES','PB','AM','MT','RN','Pi','AL','DF','MS','SE','RO','TO','AC','AP','RR']})\n",
        "\n",
        "X_new['estado'] = le.fit_transform(X_new['estado'])\n",
        "encoder = OneHotEncoder(sparse=False)\n",
        "X_new_encoded = encoder.fit_transform(X_new)\n",
        "pred = regressor.predict(X_new_encoded)\n"
      ],
      "metadata": {
        "colab": {
          "base_uri": "https://localhost:8080/",
          "height": 553
        },
        "id": "C8QFFlq6axyK",
        "outputId": "f45bcf34-2758-47cc-b70e-959fa46777bb"
      },
      "execution_count": 116,
      "outputs": [
        {
          "output_type": "stream",
          "name": "stdout",
          "text": [
            "[[0. 0. 0. ... 0. 1. 0.]\n",
            " [0. 0. 0. ... 0. 0. 0.]\n",
            " [0. 0. 0. ... 0. 0. 0.]\n",
            " ...\n",
            " [0. 0. 1. ... 0. 0. 0.]\n",
            " [0. 1. 0. ... 0. 0. 0.]\n",
            " [1. 0. 0. ... 0. 0. 0.]]\n"
          ]
        },
        {
          "output_type": "stream",
          "name": "stderr",
          "text": [
            "/usr/local/lib/python3.10/dist-packages/sklearn/preprocessing/_encoders.py:868: FutureWarning: `sparse` was renamed to `sparse_output` in version 1.2 and will be removed in 1.4. `sparse_output` is ignored unless you leave `sparse` to its default value.\n",
            "  warnings.warn(\n"
          ]
        },
        {
          "output_type": "error",
          "ename": "ValueError",
          "evalue": "ignored",
          "traceback": [
            "\u001b[0;31m---------------------------------------------------------------------------\u001b[0m",
            "\u001b[0;31mValueError\u001b[0m                                Traceback (most recent call last)",
            "\u001b[0;32m<ipython-input-116-583ffdbdbea5>\u001b[0m in \u001b[0;36m<cell line: 9>\u001b[0;34m()\u001b[0m\n\u001b[1;32m      7\u001b[0m \u001b[0mX_new_encoded\u001b[0m \u001b[0;34m=\u001b[0m \u001b[0mencoder\u001b[0m\u001b[0;34m.\u001b[0m\u001b[0mfit_transform\u001b[0m\u001b[0;34m(\u001b[0m\u001b[0mX_new\u001b[0m\u001b[0;34m)\u001b[0m\u001b[0;34m\u001b[0m\u001b[0;34m\u001b[0m\u001b[0m\n\u001b[1;32m      8\u001b[0m \u001b[0mprint\u001b[0m\u001b[0;34m(\u001b[0m\u001b[0mX_new_encoded\u001b[0m\u001b[0;34m)\u001b[0m\u001b[0;34m\u001b[0m\u001b[0;34m\u001b[0m\u001b[0m\n\u001b[0;32m----> 9\u001b[0;31m \u001b[0mpred\u001b[0m \u001b[0;34m=\u001b[0m \u001b[0mregressor\u001b[0m\u001b[0;34m.\u001b[0m\u001b[0mpredict\u001b[0m\u001b[0;34m(\u001b[0m\u001b[0mX_new_encoded\u001b[0m\u001b[0;34m)\u001b[0m\u001b[0;34m\u001b[0m\u001b[0;34m\u001b[0m\u001b[0m\n\u001b[0m\u001b[1;32m     10\u001b[0m \u001b[0;31m# print(pred)\u001b[0m\u001b[0;34m\u001b[0m\u001b[0;34m\u001b[0m\u001b[0m\n",
            "\u001b[0;32m/usr/local/lib/python3.10/dist-packages/sklearn/linear_model/_base.py\u001b[0m in \u001b[0;36mpredict\u001b[0;34m(self, X)\u001b[0m\n\u001b[1;32m    352\u001b[0m             \u001b[0mReturns\u001b[0m \u001b[0mpredicted\u001b[0m \u001b[0mvalues\u001b[0m\u001b[0;34m.\u001b[0m\u001b[0;34m\u001b[0m\u001b[0;34m\u001b[0m\u001b[0m\n\u001b[1;32m    353\u001b[0m         \"\"\"\n\u001b[0;32m--> 354\u001b[0;31m         \u001b[0;32mreturn\u001b[0m \u001b[0mself\u001b[0m\u001b[0;34m.\u001b[0m\u001b[0m_decision_function\u001b[0m\u001b[0;34m(\u001b[0m\u001b[0mX\u001b[0m\u001b[0;34m)\u001b[0m\u001b[0;34m\u001b[0m\u001b[0;34m\u001b[0m\u001b[0m\n\u001b[0m\u001b[1;32m    355\u001b[0m \u001b[0;34m\u001b[0m\u001b[0m\n\u001b[1;32m    356\u001b[0m     \u001b[0;32mdef\u001b[0m \u001b[0m_set_intercept\u001b[0m\u001b[0;34m(\u001b[0m\u001b[0mself\u001b[0m\u001b[0;34m,\u001b[0m \u001b[0mX_offset\u001b[0m\u001b[0;34m,\u001b[0m \u001b[0my_offset\u001b[0m\u001b[0;34m,\u001b[0m \u001b[0mX_scale\u001b[0m\u001b[0;34m)\u001b[0m\u001b[0;34m:\u001b[0m\u001b[0;34m\u001b[0m\u001b[0;34m\u001b[0m\u001b[0m\n",
            "\u001b[0;32m/usr/local/lib/python3.10/dist-packages/sklearn/linear_model/_base.py\u001b[0m in \u001b[0;36m_decision_function\u001b[0;34m(self, X)\u001b[0m\n\u001b[1;32m    335\u001b[0m         \u001b[0mcheck_is_fitted\u001b[0m\u001b[0;34m(\u001b[0m\u001b[0mself\u001b[0m\u001b[0;34m)\u001b[0m\u001b[0;34m\u001b[0m\u001b[0;34m\u001b[0m\u001b[0m\n\u001b[1;32m    336\u001b[0m \u001b[0;34m\u001b[0m\u001b[0m\n\u001b[0;32m--> 337\u001b[0;31m         \u001b[0mX\u001b[0m \u001b[0;34m=\u001b[0m \u001b[0mself\u001b[0m\u001b[0;34m.\u001b[0m\u001b[0m_validate_data\u001b[0m\u001b[0;34m(\u001b[0m\u001b[0mX\u001b[0m\u001b[0;34m,\u001b[0m \u001b[0maccept_sparse\u001b[0m\u001b[0;34m=\u001b[0m\u001b[0;34m[\u001b[0m\u001b[0;34m\"csr\"\u001b[0m\u001b[0;34m,\u001b[0m \u001b[0;34m\"csc\"\u001b[0m\u001b[0;34m,\u001b[0m \u001b[0;34m\"coo\"\u001b[0m\u001b[0;34m]\u001b[0m\u001b[0;34m,\u001b[0m \u001b[0mreset\u001b[0m\u001b[0;34m=\u001b[0m\u001b[0;32mFalse\u001b[0m\u001b[0;34m)\u001b[0m\u001b[0;34m\u001b[0m\u001b[0;34m\u001b[0m\u001b[0m\n\u001b[0m\u001b[1;32m    338\u001b[0m         \u001b[0;32mreturn\u001b[0m \u001b[0msafe_sparse_dot\u001b[0m\u001b[0;34m(\u001b[0m\u001b[0mX\u001b[0m\u001b[0;34m,\u001b[0m \u001b[0mself\u001b[0m\u001b[0;34m.\u001b[0m\u001b[0mcoef_\u001b[0m\u001b[0;34m.\u001b[0m\u001b[0mT\u001b[0m\u001b[0;34m,\u001b[0m \u001b[0mdense_output\u001b[0m\u001b[0;34m=\u001b[0m\u001b[0;32mTrue\u001b[0m\u001b[0;34m)\u001b[0m \u001b[0;34m+\u001b[0m \u001b[0mself\u001b[0m\u001b[0;34m.\u001b[0m\u001b[0mintercept_\u001b[0m\u001b[0;34m\u001b[0m\u001b[0;34m\u001b[0m\u001b[0m\n\u001b[1;32m    339\u001b[0m \u001b[0;34m\u001b[0m\u001b[0m\n",
            "\u001b[0;32m/usr/local/lib/python3.10/dist-packages/sklearn/base.py\u001b[0m in \u001b[0;36m_validate_data\u001b[0;34m(self, X, y, reset, validate_separately, **check_params)\u001b[0m\n\u001b[1;32m    586\u001b[0m \u001b[0;34m\u001b[0m\u001b[0m\n\u001b[1;32m    587\u001b[0m         \u001b[0;32mif\u001b[0m \u001b[0;32mnot\u001b[0m \u001b[0mno_val_X\u001b[0m \u001b[0;32mand\u001b[0m \u001b[0mcheck_params\u001b[0m\u001b[0;34m.\u001b[0m\u001b[0mget\u001b[0m\u001b[0;34m(\u001b[0m\u001b[0;34m\"ensure_2d\"\u001b[0m\u001b[0;34m,\u001b[0m \u001b[0;32mTrue\u001b[0m\u001b[0;34m)\u001b[0m\u001b[0;34m:\u001b[0m\u001b[0;34m\u001b[0m\u001b[0;34m\u001b[0m\u001b[0m\n\u001b[0;32m--> 588\u001b[0;31m             \u001b[0mself\u001b[0m\u001b[0;34m.\u001b[0m\u001b[0m_check_n_features\u001b[0m\u001b[0;34m(\u001b[0m\u001b[0mX\u001b[0m\u001b[0;34m,\u001b[0m \u001b[0mreset\u001b[0m\u001b[0;34m=\u001b[0m\u001b[0mreset\u001b[0m\u001b[0;34m)\u001b[0m\u001b[0;34m\u001b[0m\u001b[0;34m\u001b[0m\u001b[0m\n\u001b[0m\u001b[1;32m    589\u001b[0m \u001b[0;34m\u001b[0m\u001b[0m\n\u001b[1;32m    590\u001b[0m         \u001b[0;32mreturn\u001b[0m \u001b[0mout\u001b[0m\u001b[0;34m\u001b[0m\u001b[0;34m\u001b[0m\u001b[0m\n",
            "\u001b[0;32m/usr/local/lib/python3.10/dist-packages/sklearn/base.py\u001b[0m in \u001b[0;36m_check_n_features\u001b[0;34m(self, X, reset)\u001b[0m\n\u001b[1;32m    387\u001b[0m \u001b[0;34m\u001b[0m\u001b[0m\n\u001b[1;32m    388\u001b[0m         \u001b[0;32mif\u001b[0m \u001b[0mn_features\u001b[0m \u001b[0;34m!=\u001b[0m \u001b[0mself\u001b[0m\u001b[0;34m.\u001b[0m\u001b[0mn_features_in_\u001b[0m\u001b[0;34m:\u001b[0m\u001b[0;34m\u001b[0m\u001b[0;34m\u001b[0m\u001b[0m\n\u001b[0;32m--> 389\u001b[0;31m             raise ValueError(\n\u001b[0m\u001b[1;32m    390\u001b[0m                 \u001b[0;34mf\"X has {n_features} features, but {self.__class__.__name__} \"\u001b[0m\u001b[0;34m\u001b[0m\u001b[0;34m\u001b[0m\u001b[0m\n\u001b[1;32m    391\u001b[0m                 \u001b[0;34mf\"is expecting {self.n_features_in_} features as input.\"\u001b[0m\u001b[0;34m\u001b[0m\u001b[0;34m\u001b[0m\u001b[0m\n",
            "\u001b[0;31mValueError\u001b[0m: X has 48 features, but LinearRegression is expecting 81 features as input."
          ]
        }
      ]
    },
    {
      "cell_type": "markdown",
      "source": [
        "Infelizmente, com o erro na execução da previsão, não foi possível visualizar os resultados."
      ],
      "metadata": {
        "id": "rfmMo-8tiSe3"
      }
    },
    {
      "cell_type": "markdown",
      "source": [
        "# Concluindo\n",
        "Como não consegui fazer o modelo prever as vendas em outros estados, não foi possível chegar num resultado pelo modelo de predição.\n",
        "\n",
        "Mas analisando os gráficos gerados anteriormente, podemos concluir que estados com maior população tendem a gerar mais vendas. Com dados mensais das vendas, poderiamos ter buscado se existe alguma época em que as vendas sejam mais frequentes. É importante também considerar o quão desenvolvidas são as ruas de cada cidade, pois isso afetaria a quantidade de veículos e também o quão frequente eles serião limpos, dependendo de quantas estradas de chão exitem.\n",
        "\n",
        "Outro dado que poderia afetar as vendas, seriam as profissões predominantes de cada cidade, talvez em cidades agrículas não ocorreria muitas vendas de produtos de limpeza.\n",
        "\n",
        "Com essas informações, a FabProd poderia identificar áreas com maior potencial de crescimento para seus produtos de limpeza de veículos e adaptar sua estratégia de vendas e marketing para atender melhor às necessidades dessas regiões. Além disso, a análise de dados pode ajudar a empresa a otimizar sua cadeia produtiva, identificando gargalos e oportunidades de melhoria na produção, armazenamento e distribuição de seus produtos.\n",
        "\n",
        "Em resumo, a FabProd precisa valorizar os dados que são gerados internamente e externamente da cadeia produtiva em que está inserida, pois esses dados podem fornecer informações valiosas para a tomada de decisões estratégicas e para o crescimento da empresa. A ciência de dados pode ser uma ferramenta poderosa para ajudar a empresa a explorar esses dados e transformá-los em insights acionáveis."
      ],
      "metadata": {
        "id": "CCQL8rmEhtQr"
      }
    }
  ]
}